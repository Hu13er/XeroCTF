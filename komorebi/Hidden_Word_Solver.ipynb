{
  "cells": [
    {
      "cell_type": "code",
      "execution_count": 1,
      "id": "d30f402a",
      "metadata": {
        "id": "d30f402a"
      },
      "outputs": [],
      "source": [
        "with open('text_with_hidden_word.txt') as f:\n",
        "    s = f.read()"
      ]
    },
    {
      "cell_type": "code",
      "execution_count": 2,
      "id": "b9d5127d",
      "metadata": {
        "id": "b9d5127d",
        "outputId": "8bef6927-a810-4d50-964d-90ac2b28cd84",
        "colab": {
          "base_uri": "https://localhost:8080/",
          "height": 140
        }
      },
      "outputs": [
        {
          "output_type": "execute_result",
          "data": {
            "text/plain": [
              "'SywjhjYwSHSfnRobwxjBsMMfTONMOPVTdhllJpDArfIxGLsAicVrxNilbwfsINAjPeeXVuQoncDDWVVVWHPPJSHCAbZiTksFGPGsribYlrfGMWyHjkaYWRnEqYRudeHxnoaphVHRTbblMjRHhtMFpqQJPYDtSwnVnWQEGIbIGNtROZOdbkofEFYZahOCSVyYbAhkioJGwMoZiJBcRhleBMuHxJylQNbDWNkFjwobHHabcfdycAZhNDyhPcDaZkswSYJoHYJuHaEkajlArAEOnyGJnPfkIYjVPWJlanCFETFMWGFLjfnndrSPEsiGObskRCIZpSlPyffWZjHNPlwOTyasIedDHOuNvHIgdPETozHkuIhjeflLnjgCAyqeDTfYHFATgnnCesyeCDruMPAeMMHCRuxqiMVxFbWkidFchxTjqlEqwxddbnfjoTwAlFyOuFFjDAeJxHlhPGaKRVbGptpEwNllariMEEGjoTSySilNdNbGCdSRAZeydxfHjWZVGsfNrendkADkNyoZpEeEHJPDFNJVjRYRlNrqLPRZoGREIMwbrHkeswPJifhboWWvlexSkhGeZsqnuTAdCdllJjCcgiBKbeoCjAchgidSoBJWdVbwMFEyGeQddVIYdfboFIlIewcJwpSASmFJJDTeCcBQwZbOCPeNfYeATENgPeSwefIgahfaFObHCIxiZlxVfjfeEMjHAMwHHhoWdyIwykyAjYllNxydjCzbEAonBKdygpySOGiuMUnfVuxYsYofRTNpWrwfOGJardJCfoTsyRTAJIoNbyexxMxwcJHjnlyRrEOzTWSoujDiyHMAiRRIdeISMHIfODHTiNSIYnunSHyGOZfPaNkcwYjyAVPkblGHkGGSVxxHDHhNSyqQVRtcklEWkijNxxVHEexVEuRxGIqiqgwOPVkCdrwzOiGkfjpYbTEgPweHIhGrFMZPMNwHytsxtnxyjjYdJoieZwTufIHnGfpsNWlEusBflTjrtdBdmpCowTWoBndRuIOwNlSiGEbllbIOACQuHLjhiIMbsmSYeORYTtYRInCqJfNefxNJLLsEYWVxQthZbhojhIfoTsDyLVJxIpoYJfoAVidwHjEnJnwJeYPBrNDMxobolMhwTrlnMYaBnOciRaqHfioZbduIZDkwfgxPhTeYajPNxADSPxQuxsjxsiYkwwJEhbvfEAxwWwogyxxbYxaTyAYwSRIAZMSxIwBPHMTpNiYpItjqldwnAfxBhtpnRPurjExWsSEjEJaFoOsdLdgSwfYuATHlYthRYhNRqwEySYsDysaNiyYFJPsnIoqyklMYaRSOYJoMmhnnZpdJrHhaYxwwSPHIhWWEVOZSNPnAtvjxxZujTsuwJTAMrkbDZjyyeQRNVIHHoapokSosubVfdjIFYGyIlyNymxfnocTHIfDkLFwiwSsHhRjdfotbqjaftotBiyjjHidoEbJoiDumwbTSThWGueRdPduXTnYMAFjiyNprnMhonryJfiJYFREiIsHObfYtokojHeGlfSiQjNyhhnsEYIYCluqoibHTQAMuAdAeDeJjkDODNZYlSZNjyGAhPdYTawiREsHRGETnhjHqheSvjMOJVJZMauPVEJoohiHdZHElspwojTCluoscTYfeRlHQBSMob'"
            ],
            "application/vnd.google.colaboratory.intrinsic+json": {
              "type": "string"
            }
          },
          "metadata": {},
          "execution_count": 2
        }
      ],
      "source": [
        "s"
      ]
    },
    {
      "cell_type": "code",
      "execution_count": 3,
      "id": "ca67766c",
      "metadata": {
        "id": "ca67766c"
      },
      "outputs": [],
      "source": [
        "d = dict()\n",
        "for ch in s:\n",
        "    d[ch] = d.get(ch, 0) + 1"
      ]
    },
    {
      "cell_type": "code",
      "execution_count": 4,
      "id": "240f1664",
      "metadata": {
        "id": "240f1664",
        "outputId": "cf4a82c5-7d33-4603-fb5c-2cb11803ae38",
        "colab": {
          "base_uri": "https://localhost:8080/"
        }
      },
      "outputs": [
        {
          "output_type": "stream",
          "name": "stdout",
          "text": [
            "1 2 3 4 5 6 10 13 14 16 17 18 19 21 23 24 25 26 27 28 29 30 31 32 33 34 36 37 38 39 40 41 42 42 42 42 42 42 42 42 43 44 45 46 47 48 50 51 52 54 57 58\n"
          ]
        }
      ],
      "source": [
        "print(*sorted(d.values()))"
      ]
    },
    {
      "cell_type": "code",
      "execution_count": 5,
      "id": "120e417e",
      "metadata": {
        "id": "120e417e",
        "outputId": "875db7c2-3df0-46be-f132-3460b2088dc9",
        "colab": {
          "base_uri": "https://localhost:8080/"
        }
      },
      "outputs": [
        {
          "output_type": "stream",
          "name": "stdout",
          "text": [
            "A B C D E F G H I J K L M N O P Q R S T U V W X Y Z a b c d e f g h i j k l m n o p q r s t u v w x y z\n",
            "52\n"
          ]
        }
      ],
      "source": [
        "print(*sorted(d))\n",
        "print(len(d))"
      ]
    },
    {
      "cell_type": "code",
      "execution_count": 6,
      "id": "bbfea7fb",
      "metadata": {
        "id": "bbfea7fb",
        "outputId": "207c7b5f-b707-4eef-e1cd-3e8f4dc17704",
        "colab": {
          "base_uri": "https://localhost:8080/",
          "height": 206
        }
      },
      "outputs": [
        {
          "output_type": "execute_result",
          "data": {
            "text/plain": [
              "   0   1\n",
              "0  S  42\n",
              "1  y  48\n",
              "2  w  52\n",
              "3  j  57\n",
              "4  h  41"
            ],
            "text/html": [
              "\n",
              "  <div id=\"df-82970036-ef0f-43bd-b9ac-602547285c53\">\n",
              "    <div class=\"colab-df-container\">\n",
              "      <div>\n",
              "<style scoped>\n",
              "    .dataframe tbody tr th:only-of-type {\n",
              "        vertical-align: middle;\n",
              "    }\n",
              "\n",
              "    .dataframe tbody tr th {\n",
              "        vertical-align: top;\n",
              "    }\n",
              "\n",
              "    .dataframe thead th {\n",
              "        text-align: right;\n",
              "    }\n",
              "</style>\n",
              "<table border=\"1\" class=\"dataframe\">\n",
              "  <thead>\n",
              "    <tr style=\"text-align: right;\">\n",
              "      <th></th>\n",
              "      <th>0</th>\n",
              "      <th>1</th>\n",
              "    </tr>\n",
              "  </thead>\n",
              "  <tbody>\n",
              "    <tr>\n",
              "      <th>0</th>\n",
              "      <td>S</td>\n",
              "      <td>42</td>\n",
              "    </tr>\n",
              "    <tr>\n",
              "      <th>1</th>\n",
              "      <td>y</td>\n",
              "      <td>48</td>\n",
              "    </tr>\n",
              "    <tr>\n",
              "      <th>2</th>\n",
              "      <td>w</td>\n",
              "      <td>52</td>\n",
              "    </tr>\n",
              "    <tr>\n",
              "      <th>3</th>\n",
              "      <td>j</td>\n",
              "      <td>57</td>\n",
              "    </tr>\n",
              "    <tr>\n",
              "      <th>4</th>\n",
              "      <td>h</td>\n",
              "      <td>41</td>\n",
              "    </tr>\n",
              "  </tbody>\n",
              "</table>\n",
              "</div>\n",
              "      <button class=\"colab-df-convert\" onclick=\"convertToInteractive('df-82970036-ef0f-43bd-b9ac-602547285c53')\"\n",
              "              title=\"Convert this dataframe to an interactive table.\"\n",
              "              style=\"display:none;\">\n",
              "        \n",
              "  <svg xmlns=\"http://www.w3.org/2000/svg\" height=\"24px\"viewBox=\"0 0 24 24\"\n",
              "       width=\"24px\">\n",
              "    <path d=\"M0 0h24v24H0V0z\" fill=\"none\"/>\n",
              "    <path d=\"M18.56 5.44l.94 2.06.94-2.06 2.06-.94-2.06-.94-.94-2.06-.94 2.06-2.06.94zm-11 1L8.5 8.5l.94-2.06 2.06-.94-2.06-.94L8.5 2.5l-.94 2.06-2.06.94zm10 10l.94 2.06.94-2.06 2.06-.94-2.06-.94-.94-2.06-.94 2.06-2.06.94z\"/><path d=\"M17.41 7.96l-1.37-1.37c-.4-.4-.92-.59-1.43-.59-.52 0-1.04.2-1.43.59L10.3 9.45l-7.72 7.72c-.78.78-.78 2.05 0 2.83L4 21.41c.39.39.9.59 1.41.59.51 0 1.02-.2 1.41-.59l7.78-7.78 2.81-2.81c.8-.78.8-2.07 0-2.86zM5.41 20L4 18.59l7.72-7.72 1.47 1.35L5.41 20z\"/>\n",
              "  </svg>\n",
              "      </button>\n",
              "      \n",
              "  <style>\n",
              "    .colab-df-container {\n",
              "      display:flex;\n",
              "      flex-wrap:wrap;\n",
              "      gap: 12px;\n",
              "    }\n",
              "\n",
              "    .colab-df-convert {\n",
              "      background-color: #E8F0FE;\n",
              "      border: none;\n",
              "      border-radius: 50%;\n",
              "      cursor: pointer;\n",
              "      display: none;\n",
              "      fill: #1967D2;\n",
              "      height: 32px;\n",
              "      padding: 0 0 0 0;\n",
              "      width: 32px;\n",
              "    }\n",
              "\n",
              "    .colab-df-convert:hover {\n",
              "      background-color: #E2EBFA;\n",
              "      box-shadow: 0px 1px 2px rgba(60, 64, 67, 0.3), 0px 1px 3px 1px rgba(60, 64, 67, 0.15);\n",
              "      fill: #174EA6;\n",
              "    }\n",
              "\n",
              "    [theme=dark] .colab-df-convert {\n",
              "      background-color: #3B4455;\n",
              "      fill: #D2E3FC;\n",
              "    }\n",
              "\n",
              "    [theme=dark] .colab-df-convert:hover {\n",
              "      background-color: #434B5C;\n",
              "      box-shadow: 0px 1px 3px 1px rgba(0, 0, 0, 0.15);\n",
              "      filter: drop-shadow(0px 1px 2px rgba(0, 0, 0, 0.3));\n",
              "      fill: #FFFFFF;\n",
              "    }\n",
              "  </style>\n",
              "\n",
              "      <script>\n",
              "        const buttonEl =\n",
              "          document.querySelector('#df-82970036-ef0f-43bd-b9ac-602547285c53 button.colab-df-convert');\n",
              "        buttonEl.style.display =\n",
              "          google.colab.kernel.accessAllowed ? 'block' : 'none';\n",
              "\n",
              "        async function convertToInteractive(key) {\n",
              "          const element = document.querySelector('#df-82970036-ef0f-43bd-b9ac-602547285c53');\n",
              "          const dataTable =\n",
              "            await google.colab.kernel.invokeFunction('convertToInteractive',\n",
              "                                                     [key], {});\n",
              "          if (!dataTable) return;\n",
              "\n",
              "          const docLinkHtml = 'Like what you see? Visit the ' +\n",
              "            '<a target=\"_blank\" href=https://colab.research.google.com/notebooks/data_table.ipynb>data table notebook</a>'\n",
              "            + ' to learn more about interactive tables.';\n",
              "          element.innerHTML = '';\n",
              "          dataTable['output_type'] = 'display_data';\n",
              "          await google.colab.output.renderOutput(dataTable, element);\n",
              "          const docLink = document.createElement('div');\n",
              "          docLink.innerHTML = docLinkHtml;\n",
              "          element.appendChild(docLink);\n",
              "        }\n",
              "      </script>\n",
              "    </div>\n",
              "  </div>\n",
              "  "
            ]
          },
          "metadata": {},
          "execution_count": 6
        }
      ],
      "source": [
        "import pandas as pd\n",
        "import seaborn as sns\n",
        "\n",
        "df = pd.DataFrame(list(d.items()))\n",
        "df.head()"
      ]
    },
    {
      "cell_type": "code",
      "source": [
        "sns.set(rc={'figure.figsize': (11.7, 8.27)})\n",
        "sns.barplot(data=df, x=0, y=1)"
      ],
      "metadata": {
        "colab": {
          "base_uri": "https://localhost:8080/",
          "height": 534
        },
        "id": "eR10EscyQJXa",
        "outputId": "d88af468-40fb-4063-ce9d-adb66a0a3757"
      },
      "id": "eR10EscyQJXa",
      "execution_count": 7,
      "outputs": [
        {
          "output_type": "execute_result",
          "data": {
            "text/plain": [
              "<matplotlib.axes._subplots.AxesSubplot at 0x7f314daf0590>"
            ]
          },
          "metadata": {},
          "execution_count": 7
        },
        {
          "output_type": "display_data",
          "data": {
            "text/plain": [
              "<Figure size 842.4x595.44 with 1 Axes>"
            ],
            "image/png": "[encoded data removed]"
          },
          "metadata": {}
        }
      ]
    },
    {
      "cell_type": "code",
      "execution_count": 8,
      "id": "c3322f26",
      "metadata": {
        "id": "c3322f26",
        "outputId": "8b44e3d3-5ff7-4707-cde6-b1ec56264072",
        "colab": {
          "base_uri": "https://localhost:8080/",
          "height": 534
        }
      },
      "outputs": [
        {
          "output_type": "execute_result",
          "data": {
            "text/plain": [
              "<matplotlib.axes._subplots.AxesSubplot at 0x7f314d43af50>"
            ]
          },
          "metadata": {},
          "execution_count": 8
        },
        {
          "output_type": "display_data",
          "data": {
            "text/plain": [
              "<Figure size 842.4x595.44 with 1 Axes>"
            ],
            "image/png": "[encoded data removed]"
          },
          "metadata": {}
        }
      ],
      "source": [
        "sns.set(rc={'figure.figsize': (11.7, 8.27)})\n",
        "sns.barplot(data=df.sort_values(by=1), x=0, y=1)"
      ]
    },
    {
      "cell_type": "code",
      "execution_count": 9,
      "id": "14154097",
      "metadata": {
        "id": "14154097",
        "outputId": "494c88e9-f75d-41bc-d414-18715ffe4d0a",
        "colab": {
          "base_uri": "https://localhost:8080/"
        }
      },
      "outputs": [
        {
          "output_type": "stream",
          "name": "stdout",
          "text": [
            "S n T N I i e E\n"
          ]
        }
      ],
      "source": [
        "h_w = []\n",
        "for key, value in d.items():\n",
        "    if value == 42:\n",
        "        h_w.append(key)\n",
        "print(*h_w)"
      ]
    },
    {
      "cell_type": "code",
      "execution_count": 10,
      "id": "23629c16",
      "metadata": {
        "id": "23629c16",
        "outputId": "ff5662b4-7547-49a3-e278-f6bd0f7257a2",
        "colab": {
          "base_uri": "https://localhost:8080/"
        }
      },
      "outputs": [
        {
          "output_type": "execute_result",
          "data": {
            "text/plain": [
              "['S', 'n', 'T', 'N', 'I', 'i', 'e', 'E']"
            ]
          },
          "metadata": {},
          "execution_count": 10
        }
      ],
      "source": [
        "h_w"
      ]
    },
    {
      "cell_type": "code",
      "execution_count": 11,
      "id": "54bc56fa",
      "metadata": {
        "id": "54bc56fa",
        "outputId": "95f407e6-c295-4e9e-d55e-949b0327f4e6",
        "colab": {
          "base_uri": "https://localhost:8080/"
        }
      },
      "outputs": [
        {
          "output_type": "execute_result",
          "data": {
            "text/plain": [
              "[83, 110, 84, 78, 73, 105, 101, 69]"
            ]
          },
          "metadata": {},
          "execution_count": 11
        }
      ],
      "source": [
        "answ = [ord(ch) for ch in h_w]\n",
        "answ"
      ]
    },
    {
      "cell_type": "code",
      "execution_count": 12,
      "id": "c9fc1c5f",
      "metadata": {
        "id": "c9fc1c5f"
      },
      "outputs": [],
      "source": [
        "answ.sort()"
      ]
    },
    {
      "cell_type": "code",
      "execution_count": 13,
      "id": "a338e750",
      "metadata": {
        "id": "a338e750",
        "outputId": "7559b860-09a4-4bc8-d387-c932dfe0551c",
        "colab": {
          "base_uri": "https://localhost:8080/"
        }
      },
      "outputs": [
        {
          "output_type": "execute_result",
          "data": {
            "text/plain": [
              "['E', 'I', 'N', 'S', 'T', 'e', 'i', 'n']"
            ]
          },
          "metadata": {},
          "execution_count": 13
        }
      ],
      "source": [
        "ans = [chr(x) for x in answ]\n",
        "ans"
      ]
    },
    {
      "cell_type": "code",
      "execution_count": 14,
      "id": "9885c56e",
      "metadata": {
        "id": "9885c56e",
        "outputId": "7ff8e5e5-0ceb-4101-8ff2-96d9910dbfb7",
        "colab": {
          "base_uri": "https://localhost:8080/",
          "height": 35
        }
      },
      "outputs": [
        {
          "output_type": "execute_result",
          "data": {
            "text/plain": [
              "'EINSTein'"
            ],
            "application/vnd.google.colaboratory.intrinsic+json": {
              "type": "string"
            }
          },
          "metadata": {},
          "execution_count": 14
        }
      ],
      "source": [
        "hidden_word = ''.join(ans)\n",
        "hidden_word"
      ]
    }
  ],
  "metadata": {
    "kernelspec": {
      "display_name": "Python 3",
      "language": "python",
      "name": "python3"
    },
    "language_info": {
      "codemirror_mode": {
        "name": "ipython",
        "version": 3
      },
      "file_extension": ".py",
      "mimetype": "text/x-python",
      "name": "python",
      "nbconvert_exporter": "python",
      "pygments_lexer": "ipython3",
      "version": "3.8.8"
    },
    "colab": {
      "name": "Hidden Word Solver.ipynb",
      "provenance": [],
      "collapsed_sections": []
    }
  },
  "nbformat": 4,
  "nbformat_minor": 5
}